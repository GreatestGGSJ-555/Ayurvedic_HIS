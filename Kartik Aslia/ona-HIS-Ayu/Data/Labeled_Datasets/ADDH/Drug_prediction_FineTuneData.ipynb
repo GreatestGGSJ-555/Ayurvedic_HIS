{
 "cells": [
  {
   "cell_type": "code",
   "execution_count": 11,
   "metadata": {},
   "outputs": [],
   "source": [
    "import csv\n",
    "import pandas as pd\n",
    "import json\n",
    "import random"
   ]
  },
  {
   "cell_type": "code",
   "execution_count": 12,
   "metadata": {},
   "outputs": [],
   "source": [
    "\n",
    "data = []\n",
    "with open('C:\\\\Users\\\\LENOVO\\\\PycharmProjects\\\\Ayurvedic_HIS\\\\Kartik Aslia\\\\ona-HIS-Ayu\\\\Data\\\\Labeled_Datasets\\\\ADDH\\\\Drug prescription Dataset.csv', 'r') as csvfile:\n",
    "    reader = csv.reader(csvfile)\n",
    "    for row in reader:\n",
    "        data.append(row)"
   ]
  },
  {
   "cell_type": "code",
   "execution_count": 13,
   "metadata": {},
   "outputs": [],
   "source": [
    "converted_data = []\n",
    "for row in data:\n",
    "    age = row[1]\n",
    "    disease = row[0]\n",
    "    severity = row[3]\n",
    "    drug = row[4]\n",
    "    formatted_string = f\"###user: my 'age' is {age} and I am suffering from {disease}, severity is '{severity}', ###assistant: you must have '{drug}' it will help you\"\n",
    "    converted_data.append(formatted_string)\n"
   ]
  },
  {
   "cell_type": "code",
   "execution_count": 14,
   "metadata": {},
   "outputs": [],
   "source": [
    "# Shuffle the data randomly\n",
    "random.shuffle(converted_data)\n",
    "\n",
    "# Calculate the split index\n",
    "split_index = int(0.8 * len(converted_data))\n",
    "\n",
    "# Split the data into train and eval sets\n",
    "train_data = converted_data[:split_index]\n",
    "eval_data = converted_data[split_index:]\n",
    "\n",
    "# Save train data to JSON file\n",
    "with open('train_data.json', 'w') as train_file:\n",
    "    json.dump(train_data, train_file)\n",
    "\n",
    "# Save eval data to JSON file\n",
    "with open('eval_data.json', 'w') as eval_file:\n",
    "    json.dump(eval_data, eval_file)\n"
   ]
  },
  {
   "cell_type": "code",
   "execution_count": 15,
   "metadata": {},
   "outputs": [],
   "source": [
    "\n",
    "df = pd.DataFrame(converted_data)\n",
    "df.to_csv('output.txt', index=False, header=False)\n"
   ]
  },
  {
   "cell_type": "code",
   "execution_count": null,
   "metadata": {},
   "outputs": [],
   "source": [
    "from datasets import load_dataset\n",
    "from transformers import AutoModelForCausalLM, AutoTokenizer, TrainingArguments, Trainer\n",
    "\n",
    "# Load the train and evaluation datasets\n",
    "train_dataset = load_dataset('json', data_files='notes.jsonl', split='train')\n",
    "eval_dataset = load_dataset('json', data_files='notes_validation.jsonl', split='train')\n",
    "\n",
    "# Create a formatting function to structure training examples as prompts\n",
    "def formatting_func(example):\n",
    "    text = f\"### Question: {example['input']}\\n### Answer: {example['output']}\"\n",
    "    return [text]\n",
    "\n",
    "# Initialize the tokenizer and model\n",
    "model_name = \"meta-llama/Llama-2-7b-chat-hf\"\n",
    "tokenizer = AutoTokenizer.from_pretrained(model_name)\n",
    "model = AutoModelForCausalLM.from_pretrained(model_name)\n",
    "\n",
    "# Format the datasets using the formatting function\n",
    "train_dataset = train_dataset.map(formatting_func, batched=True)\n",
    "eval_dataset = eval_dataset.map(formatting_func, batched=True)\n",
    "\n",
    "# Define the training arguments\n",
    "training_args = TrainingArguments(\n",
    "    output_dir='./results',\n",
    "    num_train_epochs=10,\n",
    "    per_device_train_batch_size=4,\n",
    "    per_device_eval_batch_size=4,\n",
    "    save_strategy='epoch',\n",
    "    evaluation_strategy='epoch',\n",
    "    logging_dir='./logs',\n",
    "    logging_steps=10\n",
    ")\n",
    "\n",
    "# Create the Trainer\n",
    "trainer = Trainer(\n",
    "    model=model,\n",
    "    args=training_args,\n",
    "    train_dataset=train_dataset,\n",
    "    eval_dataset=eval_dataset\n",
    ")\n",
    "\n",
    "# Fine-tune the model\n",
    "trainer.train()\n",
    "\n",
    "# Save the model\n",
    "trainer.save_model(\"fine_tuned_model\")\n",
    "\n",
    "# Load the model\n",
    "model = AutoModelForCausalLM.from_pretrained(\"fine_tuned_model\")\n"
   ]
  }
 ],
 "metadata": {
  "kernelspec": {
   "display_name": "cuda-gpt",
   "language": "python",
   "name": "cuda"
  },
  "language_info": {
   "codemirror_mode": {
    "name": "ipython",
    "version": 3
   },
   "file_extension": ".py",
   "mimetype": "text/x-python",
   "name": "python",
   "nbconvert_exporter": "python",
   "pygments_lexer": "ipython3",
   "version": "3.10.9"
  },
  "orig_nbformat": 4
 },
 "nbformat": 4,
 "nbformat_minor": 2
}
