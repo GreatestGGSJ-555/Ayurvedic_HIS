{
 "cells": [
  {
   "cell_type": "code",
   "execution_count": 38,
   "id": "40a9c9a2-af3b-4805-a952-6f750d42dcdb",
   "metadata": {},
   "outputs": [
    {
     "name": "stdout",
     "output_type": "stream",
     "text": [
      "Using cuda device\n",
      "cuda\n"
     ]
    }
   ],
   "source": [
    "import torch\n",
    "device = 'cuda' if torch.cuda.is_available() else 'cpu'\n",
    "print('Using {} device'.format(device))\n",
    "print(device)\n",
    "block_size = 8\n",
    "batch_size = 4"
   ]
  },
  {
   "cell_type": "code",
   "execution_count": 5,
   "id": "d4a7bcb5-3b25-4917-bf31-083844a7f22c",
   "metadata": {},
   "outputs": [
    {
     "name": "stdout",
     "output_type": "stream",
     "text": [
      "text =  748801\n",
      "Ayurveda, the Ancient Science of Hindus and Indians, dates back about 7000 years.\n",
      "It has eight branches, one of which is Rasayana Tantra. The word rasayana literally\n",
      "means the path that rasa takes (ra\n"
     ]
    }
   ],
   "source": [
    "with open(\"Rasayana_ Ayurvedic herbs for longevity and rejuvenation.txt\" , \"r\", encoding = 'utf-8' ) as f:\n",
    "    text = f.read()\n",
    "print(\"text = \", len(text))\n",
    "print(text[:200]) "
   ]
  },
  {
   "cell_type": "code",
   "execution_count": 9,
   "id": "1a3e1990-2a0c-4001-8322-f9740735af9c",
   "metadata": {},
   "outputs": [
    {
     "name": "stdout",
     "output_type": "stream",
     "text": [
      "['\\n', '\\x0c', ' ', '!', '&', '(', ')', '*', '+', ',', '-', '.', '/', '0', '1', '2', '3', '4', '5', '6', '7', '8', '9', ':', ';', '>', '?', '@', 'A', 'B', 'C', 'D', 'E', 'F', 'G', 'H', 'I', 'J', 'K', 'L', 'M', 'N', 'O', 'P', 'Q', 'R', 'S', 'T', 'U', 'V', 'W', 'X', 'Y', 'Z', 'a', 'b', 'c', 'd', 'e', 'f', 'g', 'h', 'i', 'j', 'k', 'l', 'm', 'n', 'o', 'p', 'q', 'r', 's', 't', 'u', 'v', 'w', 'x', 'y', 'z', '®', '°', 'µ', '×', 'à', 'é', 'α', 'β', 'χ', '–', '‘', '’', '“', '”', '−', 'ﬁ', 'ﬂ']\n",
      "97\n"
     ]
    }
   ],
   "source": [
    "chars = sorted(set(text))\n",
    "print(chars)\n",
    "print(len(chars)) "
   ]
  },
  {
   "cell_type": "code",
   "execution_count": 26,
   "id": "348a9f74-48e8-4252-b45e-61fafd27a744",
   "metadata": {},
   "outputs": [
    {
     "name": "stdout",
     "output_type": "stream",
     "text": [
      "tensor([28, 78, 74, 71, 75, 58, 57, 54,  9,  2, 73, 61, 58,  2, 28, 67, 56, 62,\n",
      "        58, 67, 73,  2, 46, 56, 62, 58, 67, 56, 58,  2, 68, 59,  2, 35, 62, 67,\n",
      "        57, 74, 72,  2, 54, 67, 57,  2, 36, 67, 57, 62, 54, 67, 72,  9,  2, 57,\n",
      "        54, 73, 58, 72,  2, 55, 54, 56, 64,  2, 54, 55, 68, 74, 73,  2, 20, 13,\n",
      "        13, 13,  2, 78, 58, 54, 71, 72, 11,  0, 36, 73,  2, 61, 54, 72,  2, 58,\n",
      "        62, 60, 61, 73,  2, 55, 71, 54, 67, 56])\n"
     ]
    }
   ],
   "source": [
    "string_to_int = {ch:i for i, ch in enumerate(chars) }\n",
    "int_to_string = {i:ch for i, ch in enumerate(chars) }\n",
    "encode = lambda s: [string_to_int[c] for c in s]\n",
    "decode = lambda l: ''.join([int_to_string[i] for i in l])\n",
    "\n",
    "data = torch.tensor(encode(text), dtype = torch.long)\n",
    "print(data[:100])"
   ]
  },
  {
   "cell_type": "code",
   "execution_count": 24,
   "id": "ef479650-7627-417c-9450-0ea7d8ff1c99",
   "metadata": {},
   "outputs": [
    {
     "name": "stdout",
     "output_type": "stream",
     "text": [
      "Encoded =  [61, 58, 65, 65, 68]\n",
      "Decoded =  hello\n"
     ]
    }
   ],
   "source": [
    "enc_hello = encode(\"hello\")\n",
    "dec_hello = decode(enc_hello)\n",
    "print(\"Encoded = \", enc_hello)\n",
    "print(\"Decoded = \", dec_hello)"
   ]
  },
  {
   "cell_type": "code",
   "execution_count": 34,
   "id": "3b3766a0-3ea0-40a5-bac1-9f18e36b4a7c",
   "metadata": {},
   "outputs": [
    {
     "name": "stdout",
     "output_type": "stream",
     "text": [
      "Train Shape =  torch.Size([599040])\n",
      "Test Shape =  torch.Size([149761])\n"
     ]
    }
   ],
   "source": [
    "n =  int(0.8*len(data))\n",
    "train_data = data[:n]\n",
    "test_data = data[n:]\n",
    "print(\"Train Shape = \", train_data.shape)\n",
    "print(\"Test Shape = \", test_data.shape)"
   ]
  },
  {
   "cell_type": "code",
   "execution_count": 37,
   "id": "2e9175de-492a-4949-836a-7d2c23a3bf31",
   "metadata": {},
   "outputs": [
    {
     "name": "stdout",
     "output_type": "stream",
     "text": [
      "When the input is tensor([28]) target is tensor(78)\n",
      "When the input is tensor([28, 78]) target is tensor(74)\n",
      "When the input is tensor([28, 78, 74]) target is tensor(71)\n",
      "When the input is tensor([28, 78, 74, 71]) target is tensor(75)\n",
      "When the input is tensor([28, 78, 74, 71, 75]) target is tensor(58)\n",
      "When the input is tensor([28, 78, 74, 71, 75, 58]) target is tensor(57)\n",
      "When the input is tensor([28, 78, 74, 71, 75, 58, 57]) target is tensor(54)\n",
      "When the input is tensor([28, 78, 74, 71, 75, 58, 57, 54]) target is tensor(9)\n"
     ]
    }
   ],
   "source": [
    "x = train_data[:block_size]\n",
    "y = train_data[1:block_size+1]\n",
    "\n",
    "for t in range(block_size):\n",
    "    context = x[:t+1]\n",
    "    target = y[t]\n",
    "    print(\"When the input is\", context, \"target is\", target)"
   ]
  },
  {
   "cell_type": "code",
   "execution_count": null,
   "id": "0c16276c-3bbe-4069-b177-7546a45e75ed",
   "metadata": {},
   "outputs": [],
   "source": []
  }
 ],
 "metadata": {
  "kernelspec": {
   "display_name": "Python 3 (ipykernel)",
   "language": "python",
   "name": "python3"
  },
  "language_info": {
   "codemirror_mode": {
    "name": "ipython",
    "version": 3
   },
   "file_extension": ".py",
   "mimetype": "text/x-python",
   "name": "python",
   "nbconvert_exporter": "python",
   "pygments_lexer": "ipython3",
   "version": "3.10.9"
  }
 },
 "nbformat": 4,
 "nbformat_minor": 5
}
